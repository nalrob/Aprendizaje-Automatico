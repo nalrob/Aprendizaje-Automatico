{
  "nbformat": 4,
  "nbformat_minor": 0,
  "metadata": {
    "colab": {
      "provenance": [],
      "authorship_tag": "ABX9TyOyVFBAKdyB4B4fFToDd0ri",
      "include_colab_link": true
    },
    "kernelspec": {
      "name": "python3",
      "display_name": "Python 3"
    },
    "language_info": {
      "name": "python"
    }
  },
  "cells": [
    {
      "cell_type": "markdown",
      "metadata": {
        "id": "view-in-github",
        "colab_type": "text"
      },
      "source": [
        "<a href=\"https://colab.research.google.com/github/nalrob/Aprendizaje-Automatico/blob/main/Ap_Automatico.ipynb\" target=\"_parent\"><img src=\"https://colab.research.google.com/assets/colab-badge.svg\" alt=\"Open In Colab\"/></a>"
      ]
    },
    {
      "cell_type": "code",
      "execution_count": null,
      "metadata": {
        "id": "5UEY0ku-jnfc"
      },
      "outputs": [],
      "source": [
        "Tarea 1\n",
        "8 puntos\n",
        "\n",
        "Definir un conjunto de datos sobre el que se trabajará durante el curso\n",
        "\n",
        "Justificar su elección\n",
        "\n",
        "Establecer objetivos a lograr en el curso\n",
        "\n",
        "Subir explicación en el repositorio en un cuaderno de Jupyter\n"
      ]
    },
    {
      "cell_type": "markdown",
      "source": [],
      "metadata": {
        "id": "nBKmzkkm9ZS8"
      }
    },
    {
      "cell_type": "markdown",
      "source": [],
      "metadata": {
        "id": "3C2ufMsP9bg1"
      }
    },
    {
      "cell_type": "markdown",
      "source": [],
      "metadata": {
        "id": "r6ZXIZDA9eXz"
      }
    }
  ]
}